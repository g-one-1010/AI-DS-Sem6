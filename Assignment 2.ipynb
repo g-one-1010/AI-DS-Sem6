{
 "cells": [
  {
   "attachments": {},
   "cell_type": "markdown",
   "id": "15377e2d-5f65-4ec3-8cc3-a7681e7309d1",
   "metadata": {},
   "source": [
    "### Zip files are extracted manually"
   ]
  },
  {
   "cell_type": "code",
   "execution_count": 19,
   "id": "6ad0fe58-545e-4899-98b7-70c62ddbe382",
   "metadata": {},
   "outputs": [],
   "source": [
    "import cupy as np\n",
    "import time"
   ]
  },
  {
   "cell_type": "code",
   "execution_count": 20,
   "id": "fa9f0166-92c0-4207-af9f-315876f17baf",
   "metadata": {},
   "outputs": [],
   "source": [
    "test_images = './t10k-images.idx3-ubyte'\n",
    "test_labels = './t10k-labels.idx1-ubyte'\n",
    "train_images = './train-images.idx3-ubyte'\n",
    "train_labels = './train-labels.idx1-ubyte'"
   ]
  },
  {
   "cell_type": "code",
   "execution_count": 21,
   "id": "1c854391-77da-4304-9c38-46a70d5d0e0b",
   "metadata": {},
   "outputs": [],
   "source": [
    "def read_images(file):\n",
    "    images = []\n",
    "    with open(file, 'rb') as f:\n",
    "        _ = f.read(4)\n",
    "        total_images = int.from_bytes(f.read(4), 'big')\n",
    "        rows = int.from_bytes(f.read(4), 'big')\n",
    "        columns = int.from_bytes(f.read(4), 'big')\n",
    "        total_pixels = rows*columns\n",
    "        for i in range(total_images):\n",
    "            image = []\n",
    "            for j in range(total_pixels):\n",
    "                pixel = int.from_bytes(f.read(1), 'big')\n",
    "                image.append(pixel)\n",
    "            images.append(image)\n",
    "    return images"
   ]
  },
  {
   "cell_type": "code",
   "execution_count": 22,
   "id": "c7e191b3-b0ad-4f8c-9e99-bd04f4f7da9f",
   "metadata": {},
   "outputs": [
    {
     "name": "stdout",
     "output_type": "stream",
     "text": [
      "60000\n",
      "[  0.   0.   0.   0.   0.   0.   0.   0.   0.   0.   0.   0.   0.   0.\n",
      "   0.   0.   0.   0.   0.   0.   0.   0.   0.   0.   0.   0.   0.   0.\n",
      "   0.   0.   0.   0.   0.   0.   0.   0.   0.   0.   0.   0.   0.   0.\n",
      "   0.   0.   0.   0.   0.   0.   0.   0.   0.   0.   0.   0.   0.   0.\n",
      "   0.   0.   0.   0.   0.   0.   0.   0.   0.   0.   0.   0.   0.   0.\n",
      "   0.   0.   0.   0.   0.   0.   0.   0.   0.   0.   0.   0.   0.   0.\n",
      "   0.   0.   0.   0.   0.   0.   0.   0.   0.   0.   0.   0.   0.   0.\n",
      "   0.   0.   0.   0.   0.   0.   0.   0.   0.   0.   0.   0.   0.   0.\n",
      "   0.   0.   0.   0.   0.   0.   0.   0.   0.   0.   0.   0.   0.   0.\n",
      "   0.   0.   0.   0.   0.   0.   0.   0.   0.   0.   0.   0.   0.   0.\n",
      "   0.   0.   0.   0.   0.   0.   0.   0.   0.   0.   0.   0.   3.  18.\n",
      "  18.  18. 126. 136. 175.  26. 166. 255. 247. 127.   0.   0.   0.   0.\n",
      "   0.   0.   0.   0.   0.   0.   0.   0.  30.  36.  94. 154. 170. 253.\n",
      " 253. 253. 253. 253. 225. 172. 253. 242. 195.  64.   0.   0.   0.   0.\n",
      "   0.   0.   0.   0.   0.   0.   0.  49. 238. 253. 253. 253. 253. 253.\n",
      " 253. 253. 253. 251.  93.  82.  82.  56.  39.   0.   0.   0.   0.   0.\n",
      "   0.   0.   0.   0.   0.   0.   0.  18. 219. 253. 253. 253. 253. 253.\n",
      " 198. 182. 247. 241.   0.   0.   0.   0.   0.   0.   0.   0.   0.   0.\n",
      "   0.   0.   0.   0.   0.   0.   0.   0.  80. 156. 107. 253. 253. 205.\n",
      "  11.   0.  43. 154.   0.   0.   0.   0.   0.   0.   0.   0.   0.   0.\n",
      "   0.   0.   0.   0.   0.   0.   0.   0.   0.  14.   1. 154. 253.  90.\n",
      "   0.   0.   0.   0.   0.   0.   0.   0.   0.   0.   0.   0.   0.   0.\n",
      "   0.   0.   0.   0.   0.   0.   0.   0.   0.   0.   0. 139. 253. 190.\n",
      "   2.   0.   0.   0.   0.   0.   0.   0.   0.   0.   0.   0.   0.   0.\n",
      "   0.   0.   0.   0.   0.   0.   0.   0.   0.   0.   0.  11. 190. 253.\n",
      "  70.   0.   0.   0.   0.   0.   0.   0.   0.   0.   0.   0.   0.   0.\n",
      "   0.   0.   0.   0.   0.   0.   0.   0.   0.   0.   0.   0.  35. 241.\n",
      " 225. 160. 108.   1.   0.   0.   0.   0.   0.   0.   0.   0.   0.   0.\n",
      "   0.   0.   0.   0.   0.   0.   0.   0.   0.   0.   0.   0.   0.  81.\n",
      " 240. 253. 253. 119.  25.   0.   0.   0.   0.   0.   0.   0.   0.   0.\n",
      "   0.   0.   0.   0.   0.   0.   0.   0.   0.   0.   0.   0.   0.   0.\n",
      "  45. 186. 253. 253. 150.  27.   0.   0.   0.   0.   0.   0.   0.   0.\n",
      "   0.   0.   0.   0.   0.   0.   0.   0.   0.   0.   0.   0.   0.   0.\n",
      "   0.  16.  93. 252. 253. 187.   0.   0.   0.   0.   0.   0.   0.   0.\n",
      "   0.   0.   0.   0.   0.   0.   0.   0.   0.   0.   0.   0.   0.   0.\n",
      "   0.   0.   0. 249. 253. 249.  64.   0.   0.   0.   0.   0.   0.   0.\n",
      "   0.   0.   0.   0.   0.   0.   0.   0.   0.   0.   0.   0.   0.   0.\n",
      "  46. 130. 183. 253. 253. 207.   2.   0.   0.   0.   0.   0.   0.   0.\n",
      "   0.   0.   0.   0.   0.   0.   0.   0.   0.   0.   0.   0.  39. 148.\n",
      " 229. 253. 253. 253. 250. 182.   0.   0.   0.   0.   0.   0.   0.   0.\n",
      "   0.   0.   0.   0.   0.   0.   0.   0.   0.   0.  24. 114. 221. 253.\n",
      " 253. 253. 253. 201.  78.   0.   0.   0.   0.   0.   0.   0.   0.   0.\n",
      "   0.   0.   0.   0.   0.   0.   0.   0.  23.  66. 213. 253. 253. 253.\n",
      " 253. 198.  81.   2.   0.   0.   0.   0.   0.   0.   0.   0.   0.   0.\n",
      "   0.   0.   0.   0.   0.   0.  18. 171. 219. 253. 253. 253. 253. 195.\n",
      "  80.   9.   0.   0.   0.   0.   0.   0.   0.   0.   0.   0.   0.   0.\n",
      "   0.   0.   0.   0.  55. 172. 226. 253. 253. 253. 253. 244. 133.  11.\n",
      "   0.   0.   0.   0.   0.   0.   0.   0.   0.   0.   0.   0.   0.   0.\n",
      "   0.   0.   0.   0. 136. 253. 253. 253. 212. 135. 132.  16.   0.   0.\n",
      "   0.   0.   0.   0.   0.   0.   0.   0.   0.   0.   0.   0.   0.   0.\n",
      "   0.   0.   0.   0.   0.   0.   0.   0.   0.   0.   0.   0.   0.   0.\n",
      "   0.   0.   0.   0.   0.   0.   0.   0.   0.   0.   0.   0.   0.   0.\n",
      "   0.   0.   0.   0.   0.   0.   0.   0.   0.   0.   0.   0.   0.   0.\n",
      "   0.   0.   0.   0.   0.   0.   0.   0.   0.   0.   0.   0.   0.   0.\n",
      "   0.   0.   0.   0.   0.   0.   0.   0.   0.   0.   0.   0.   0.   0.\n",
      "   0.   0.   0.   0.   0.   0.   0.   0.   0.   0.   0.   0.   0.   0.]\n"
     ]
    }
   ],
   "source": [
    "X_train = np.array(read_images(train_images), dtype='float32')\n",
    "print(len(X_train))\n",
    "print(X_train[0])"
   ]
  },
  {
   "cell_type": "code",
   "execution_count": 23,
   "id": "9a749be0-52d4-4262-9560-f14bc6c24307",
   "metadata": {},
   "outputs": [
    {
     "data": {
      "image/png": "[encoded data removed]",
      "text/plain": [
       "<Figure size 432x288 with 1 Axes>"
      ]
     },
     "metadata": {
      "needs_background": "light"
     },
     "output_type": "display_data"
    }
   ],
   "source": [
    "%matplotlib inline\n",
    "import matplotlib.pyplot as plt\n",
    "number = np.asnumpy(X_train[0])\n",
    "number = number.reshape((28, 28))\n",
    "plt.imshow(number, cmap='gray')\n",
    "plt.show()"
   ]
  },
  {
   "cell_type": "code",
   "execution_count": 24,
   "id": "ad1e65ef-68dc-4003-84c8-36d7bca9af43",
   "metadata": {},
   "outputs": [],
   "source": [
    "def read_labels(file):\n",
    "    labels = []\n",
    "    with open(file, 'rb') as f:\n",
    "        _ = f.read(4)\n",
    "        total_labels = int.from_bytes(f.read(4), 'big')\n",
    "        for i in range(total_labels):\n",
    "            label = int.from_bytes(f.read(1), 'big')\n",
    "            labels.append(label)\n",
    "    return labels"
   ]
  },
  {
   "cell_type": "code",
   "execution_count": 25,
   "id": "8c8f778b-884b-42cf-b34c-31a13ad65580",
   "metadata": {},
   "outputs": [
    {
     "name": "stdout",
     "output_type": "stream",
     "text": [
      "60000\n",
      "5.0\n"
     ]
    }
   ],
   "source": [
    "Y_train = np.array(read_labels(train_labels), dtype='float32')\n",
    "print(len(Y_train))\n",
    "print(Y_train[0])"
   ]
  },
  {
   "cell_type": "code",
   "execution_count": 26,
   "id": "2a1bc9c7-aed3-4ec5-a060-f9571a28d0a6",
   "metadata": {},
   "outputs": [
    {
     "data": {
      "text/plain": [
       "10000"
      ]
     },
     "execution_count": 26,
     "metadata": {},
     "output_type": "execute_result"
    }
   ],
   "source": [
    "X_test = np.array(read_images(test_images), dtype='float32')\n",
    "len(X_test)"
   ]
  },
  {
   "cell_type": "code",
   "execution_count": 27,
   "id": "2ad64a66-f865-4905-abf8-0624f64a24e1",
   "metadata": {},
   "outputs": [
    {
     "data": {
      "text/plain": [
       "10000"
      ]
     },
     "execution_count": 27,
     "metadata": {},
     "output_type": "execute_result"
    }
   ],
   "source": [
    "Y_test = np.array(read_labels(test_labels), dtype='float32')\n",
    "len(Y_test)"
   ]
  },
  {
   "cell_type": "markdown",
   "id": "e2347b46-7181-467f-86d0-6b33bcf936ce",
   "metadata": {},
   "source": [
    "### Using sklearn RandomForestClassifier"
   ]
  },
  {
   "cell_type": "code",
   "execution_count": 48,
   "id": "1af728a5-d085-4257-bfa3-f53917a574af",
   "metadata": {},
   "outputs": [],
   "source": [
    "from sklearn.ensemble import RandomForestClassifier as sk_rf\n",
    "forest_sk = sk_rf()"
   ]
  },
  {
   "cell_type": "code",
   "execution_count": 49,
   "id": "b688eb3c-9156-4a46-9cf1-58bcecd3cf75",
   "metadata": {},
   "outputs": [
    {
     "name": "stdout",
     "output_type": "stream",
     "text": [
      "Time taken by sklearn Random Forest: 34.19070911407471 seconds\n"
     ]
    }
   ],
   "source": [
    "start = time.time()\n",
    "forest_sk.fit(np.asnumpy(X_train), np.asnumpy(Y_train))\n",
    "end = time.time()\n",
    "print(f'Time taken by sklearn Random Forest: {end - start} seconds')"
   ]
  },
  {
   "cell_type": "code",
   "execution_count": 50,
   "id": "0e5599d6-417e-49c1-842d-bdd7e820f474",
   "metadata": {},
   "outputs": [],
   "source": [
    "Label_predict_sk = forest_sk.predict(np.asnumpy(X_test))"
   ]
  },
  {
   "cell_type": "code",
   "execution_count": 51,
   "id": "126aa082-6556-4a87-80e4-c832b62eda8d",
   "metadata": {},
   "outputs": [
    {
     "name": "stdout",
     "output_type": "stream",
     "text": [
      "Accuracy Score using sklearn : 0.9694\n"
     ]
    }
   ],
   "source": [
    "from sklearn.metrics import accuracy_score as as_sk\n",
    "print(f'Accuracy Score using sklearn : {as_sk(Label_predict_sk, np.asnumpy(Y_test))}')"
   ]
  },
  {
   "cell_type": "markdown",
   "id": "c471ab61-0bc1-46b8-86ae-4bb01ff27238",
   "metadata": {},
   "source": [
    "### Using cuml RandomForestClassifier"
   ]
  },
  {
   "cell_type": "code",
   "execution_count": 52,
   "id": "82199aa5-2c78-4be6-b303-b2eba93ec8fa",
   "metadata": {},
   "outputs": [],
   "source": [
    "from cuml import RandomForestClassifier as cu_rf\n",
    "forest_cu = cu_rf()"
   ]
  },
  {
   "cell_type": "code",
   "execution_count": 53,
   "id": "d1303bfd-d9a8-42c7-83dd-c973e04ce968",
   "metadata": {},
   "outputs": [
    {
     "name": "stdout",
     "output_type": "stream",
     "text": [
      "Time taken by cuml Random Forest: 2.35386323928833 seconds\n"
     ]
    }
   ],
   "source": [
    "start = time.time()\n",
    "forest_cu.fit(X_train, Y_train)\n",
    "end = time.time()\n",
    "print(f'Time taken by cuml Random Forest: {end - start} seconds')"
   ]
  },
  {
   "cell_type": "code",
   "execution_count": 54,
   "id": "0545e7b2-c06f-4cf0-9dc2-960e6e506870",
   "metadata": {},
   "outputs": [],
   "source": [
    "Label_predict_cu = forest_cu.predict(X_test)"
   ]
  },
  {
   "cell_type": "code",
   "execution_count": 55,
   "id": "3f853494-629e-4cba-9b41-45f26c462f91",
   "metadata": {},
   "outputs": [
    {
     "name": "stdout",
     "output_type": "stream",
     "text": [
      "Accuracy Score using cuml: 0.9660999774932861\n"
     ]
    }
   ],
   "source": [
    "from cuml.metrics import accuracy_score as as_cu\n",
    "print(f'Accuracy Score using cuml: {as_cu(Label_predict_cu, Y_test)}')"
   ]
  },
  {
   "cell_type": "code",
   "execution_count": null,
   "id": "8ae2e9d8-65c0-47af-a733-a86340ea3515",
   "metadata": {},
   "outputs": [],
   "source": []
  }
 ],
 "metadata": {
  "kernelspec": {
   "display_name": "Python 3",
   "language": "python",
   "name": "python3"
  },
  "language_info": {
   "codemirror_mode": {
    "name": "ipython",
    "version": 3
   },
   "file_extension": ".py",
   "mimetype": "text/x-python",
   "name": "python",
   "nbconvert_exporter": "python",
   "pygments_lexer": "ipython3",
   "version": "3.7.10"
  }
 },
 "nbformat": 4,
 "nbformat_minor": 5
}
