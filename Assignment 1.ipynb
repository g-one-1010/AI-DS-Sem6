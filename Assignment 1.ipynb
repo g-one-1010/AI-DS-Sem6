{
 "cells": [
  {
   "cell_type": "code",
   "execution_count": 87,
   "metadata": {},
   "outputs": [],
   "source": [
    "import numpy as np\n",
    "import pandas as pd"
   ]
  },
  {
   "cell_type": "code",
   "execution_count": 88,
   "metadata": {},
   "outputs": [],
   "source": [
    "df = pd.read_table('./balance-scale.data', sep=',', names=['Label', 'First', 'Second', 'Third', 'Fourth'])"
   ]
  },
  {
   "cell_type": "code",
   "execution_count": 89,
   "metadata": {},
   "outputs": [
    {
     "data": {
      "text/html": [
       "<div>\n",
       "<style scoped>\n",
       "    .dataframe tbody tr th:only-of-type {\n",
       "        vertical-align: middle;\n",
       "    }\n",
       "\n",
       "    .dataframe tbody tr th {\n",
       "        vertical-align: top;\n",
       "    }\n",
       "\n",
       "    .dataframe thead th {\n",
       "        text-align: right;\n",
       "    }\n",
       "</style>\n",
       "<table border=\"1\" class=\"dataframe\">\n",
       "  <thead>\n",
       "    <tr style=\"text-align: right;\">\n",
       "      <th></th>\n",
       "      <th>Label</th>\n",
       "      <th>First</th>\n",
       "      <th>Second</th>\n",
       "      <th>Third</th>\n",
       "      <th>Fourth</th>\n",
       "    </tr>\n",
       "  </thead>\n",
       "  <tbody>\n",
       "    <tr>\n",
       "      <th>0</th>\n",
       "      <td>B</td>\n",
       "      <td>1</td>\n",
       "      <td>1</td>\n",
       "      <td>1</td>\n",
       "      <td>1</td>\n",
       "    </tr>\n",
       "    <tr>\n",
       "      <th>1</th>\n",
       "      <td>R</td>\n",
       "      <td>1</td>\n",
       "      <td>1</td>\n",
       "      <td>1</td>\n",
       "      <td>2</td>\n",
       "    </tr>\n",
       "    <tr>\n",
       "      <th>2</th>\n",
       "      <td>R</td>\n",
       "      <td>1</td>\n",
       "      <td>1</td>\n",
       "      <td>1</td>\n",
       "      <td>3</td>\n",
       "    </tr>\n",
       "    <tr>\n",
       "      <th>3</th>\n",
       "      <td>R</td>\n",
       "      <td>1</td>\n",
       "      <td>1</td>\n",
       "      <td>1</td>\n",
       "      <td>4</td>\n",
       "    </tr>\n",
       "    <tr>\n",
       "      <th>4</th>\n",
       "      <td>R</td>\n",
       "      <td>1</td>\n",
       "      <td>1</td>\n",
       "      <td>1</td>\n",
       "      <td>5</td>\n",
       "    </tr>\n",
       "    <tr>\n",
       "      <th>...</th>\n",
       "      <td>...</td>\n",
       "      <td>...</td>\n",
       "      <td>...</td>\n",
       "      <td>...</td>\n",
       "      <td>...</td>\n",
       "    </tr>\n",
       "    <tr>\n",
       "      <th>620</th>\n",
       "      <td>L</td>\n",
       "      <td>5</td>\n",
       "      <td>5</td>\n",
       "      <td>5</td>\n",
       "      <td>1</td>\n",
       "    </tr>\n",
       "    <tr>\n",
       "      <th>621</th>\n",
       "      <td>L</td>\n",
       "      <td>5</td>\n",
       "      <td>5</td>\n",
       "      <td>5</td>\n",
       "      <td>2</td>\n",
       "    </tr>\n",
       "    <tr>\n",
       "      <th>622</th>\n",
       "      <td>L</td>\n",
       "      <td>5</td>\n",
       "      <td>5</td>\n",
       "      <td>5</td>\n",
       "      <td>3</td>\n",
       "    </tr>\n",
       "    <tr>\n",
       "      <th>623</th>\n",
       "      <td>L</td>\n",
       "      <td>5</td>\n",
       "      <td>5</td>\n",
       "      <td>5</td>\n",
       "      <td>4</td>\n",
       "    </tr>\n",
       "    <tr>\n",
       "      <th>624</th>\n",
       "      <td>B</td>\n",
       "      <td>5</td>\n",
       "      <td>5</td>\n",
       "      <td>5</td>\n",
       "      <td>5</td>\n",
       "    </tr>\n",
       "  </tbody>\n",
       "</table>\n",
       "<p>625 rows × 5 columns</p>\n",
       "</div>"
      ],
      "text/plain": [
       "    Label  First  Second  Third  Fourth\n",
       "0       B      1       1      1       1\n",
       "1       R      1       1      1       2\n",
       "2       R      1       1      1       3\n",
       "3       R      1       1      1       4\n",
       "4       R      1       1      1       5\n",
       "..    ...    ...     ...    ...     ...\n",
       "620     L      5       5      5       1\n",
       "621     L      5       5      5       2\n",
       "622     L      5       5      5       3\n",
       "623     L      5       5      5       4\n",
       "624     B      5       5      5       5\n",
       "\n",
       "[625 rows x 5 columns]"
      ]
     },
     "execution_count": 89,
     "metadata": {},
     "output_type": "execute_result"
    }
   ],
   "source": [
    "df"
   ]
  },
  {
   "cell_type": "code",
   "execution_count": 90,
   "metadata": {},
   "outputs": [
    {
     "data": {
      "text/plain": [
       "array(['B', 'R', 'L'], dtype=object)"
      ]
     },
     "execution_count": 90,
     "metadata": {},
     "output_type": "execute_result"
    }
   ],
   "source": [
    "df['Label'].unique()"
   ]
  },
  {
   "cell_type": "code",
   "execution_count": 92,
   "metadata": {},
   "outputs": [],
   "source": [
    "from sklearn.model_selection import train_test_split\n",
    "train, test = train_test_split(df, test_size=0.3, random_state=100)"
   ]
  },
  {
   "attachments": {},
   "cell_type": "markdown",
   "metadata": {},
   "source": [
    "# Implementation from scratch using Information Gain\n"
   ]
  },
  {
   "cell_type": "code",
   "execution_count": 94,
   "metadata": {},
   "outputs": [],
   "source": [
    "def find_entropy(df):\n",
    "    target = df.keys()[0]\n",
    "    target_values = df[target].unique()\n",
    "    entropy = 0\n",
    "    for value in target_values:\n",
    "        prob = len(df[df[target] == value]) / len(df)\n",
    "        entropy += -(prob*np.log2(prob))\n",
    "    return entropy"
   ]
  },
  {
   "cell_type": "code",
   "execution_count": 95,
   "metadata": {},
   "outputs": [],
   "source": [
    "def find_avg_entropy(df, attribute):\n",
    "    attr_values = df[attribute].unique()\n",
    "    target = df.keys()[0]\n",
    "    target_values = df[target].unique()\n",
    "    avg_info_entropy = 0\n",
    "    for value1 in attr_values:\n",
    "        entropy_subsample = 0\n",
    "        for value2 in target_values:\n",
    "            num = len(df[attribute][df[attribute] == value1][df[target] == value2])\n",
    "            den = len(df[attribute][df[attribute] == value1])\n",
    "            prob = num/den\n",
    "            entropy_subsample += -(prob*np.log2(prob + 1e-7))\n",
    "        weight = den/len(df)\n",
    "        avg_info_entropy += weight*entropy_subsample\n",
    "    return avg_info_entropy"
   ]
  },
  {
   "cell_type": "code",
   "execution_count": 97,
   "metadata": {},
   "outputs": [],
   "source": [
    "def find_winner(df):\n",
    "    attributes = df.keys()[1:]\n",
    "    IG = []\n",
    "    for attribute in attributes:\n",
    "        IG.append((find_entropy(df) - find_avg_entropy(df, attribute)))\n",
    "    return df.keys()[1:][np.argmax(IG)]"
   ]
  },
  {
   "cell_type": "code",
   "execution_count": 98,
   "metadata": {},
   "outputs": [],
   "source": [
    "def training(df, tree = None):\n",
    "    target = df.keys()[0]\n",
    "    attribute = find_winner(df)\n",
    "    attr_values = df[attribute].unique()\n",
    "    if tree is None:\n",
    "        tree = {}\n",
    "        tree[attribute] = {}\n",
    "    for value in attr_values:\n",
    "        sub_df = df[df[attribute] == value].reset_index(drop = True)\n",
    "        clvalue, count = np.unique(sub_df[target], return_counts=True)\n",
    "        if len(count) == 1:\n",
    "            tree[attribute][value] = clvalue[0]\n",
    "        else:\n",
    "            tree[attribute][value] = training(sub_df)\n",
    "    return tree"
   ]
  },
  {
   "cell_type": "code",
   "execution_count": 99,
   "metadata": {},
   "outputs": [
    {
     "data": {
      "text/plain": [
       "{'Third': {1: {'First': {3: 'L',\n",
       "    1: {'Second': {3: {'Fourth': {2: 'L', 1: 'L', 3: 'B', 4: 'R'}},\n",
       "      5: {'Fourth': {5: 'B', 1: 'L', 2: 'L', 3: 'L'}},\n",
       "      1: {'Fourth': {2: 'R', 1: 'B', 3: 'R', 5: 'R'}},\n",
       "      2: {'Fourth': {4: 'R', 2: 'B'}},\n",
       "      4: {'Fourth': {3: 'L', 2: 'L', 5: 'R'}}}},\n",
       "    5: 'L',\n",
       "    2: {'Second': {5: 'L',\n",
       "      2: 'L',\n",
       "      1: {'Fourth': {5: 'R', 2: 'B', 4: 'R'}},\n",
       "      3: 'L',\n",
       "      4: 'L'}},\n",
       "    4: 'L'}},\n",
       "  3: {'Second': {1: {'Fourth': {5: 'R',\n",
       "      3: 'R',\n",
       "      4: 'R',\n",
       "      1: {'First': {5: 'L', 1: 'R', 4: 'L', 2: 'R'}},\n",
       "      2: 'R'}},\n",
       "    5: {'First': {3: {'Fourth': {4: 'L', 1: 'L', 5: 'B', 3: 'L'}},\n",
       "      1: {'Fourth': {2: 'R', 1: 'L', 4: 'R', 3: 'R'}},\n",
       "      2: {'Fourth': {5: 'R', 2: 'L', 3: 'L', 4: 'R'}},\n",
       "      5: 'L',\n",
       "      4: 'L'}},\n",
       "    3: {'First': {1: {'Fourth': {3: 'R', 2: 'R', 5: 'R', 1: 'B', 4: 'R'}},\n",
       "      5: {'Fourth': {2: 'L', 4: 'L', 5: 'B'}},\n",
       "      3: {'Fourth': {3: 'B', 4: 'R', 2: 'L', 5: 'R'}},\n",
       "      2: {'Fourth': {4: 'R', 3: 'R', 2: 'B', 1: 'L'}},\n",
       "      4: {'Fourth': {2: 'L', 1: 'L', 5: 'R', 4: 'B', 3: 'L'}}}},\n",
       "    2: {'Fourth': {1: {'First': {5: 'L', 1: 'R', 4: 'L', 3: 'L'}},\n",
       "      5: 'R',\n",
       "      4: 'R',\n",
       "      3: {'First': {5: 'L', 2: 'R'}},\n",
       "      2: {'First': {2: 'R', 3: 'B', 1: 'R'}}}},\n",
       "    4: {'First': {2: {'Fourth': {4: 'R', 2: 'L', 1: 'L', 5: 'R', 3: 'R'}},\n",
       "      5: 'L',\n",
       "      4: 'L',\n",
       "      1: {'Fourth': {4: 'R', 1: 'L', 3: 'R', 5: 'R', 2: 'R'}},\n",
       "      3: 'L'}}}},\n",
       "  5: {'Fourth': {1: {'First': {5: {'Second': {4: 'L',\n",
       "        2: 'L',\n",
       "        5: 'L',\n",
       "        3: 'L',\n",
       "        1: 'B'}},\n",
       "      1: {'Second': {5: 'B', 1: 'R', 2: 'R', 3: 'R', 4: 'R'}},\n",
       "      4: 'L',\n",
       "      3: 'L',\n",
       "      2: {'Second': {1: 'R', 5: 'L', 4: 'L', 2: 'R'}}}},\n",
       "    5: {'Second': {5: {'First': {3: 'R', 4: 'R', 2: 'R', 5: 'B'}},\n",
       "      3: 'R',\n",
       "      2: 'R',\n",
       "      4: 'R',\n",
       "      1: 'R'}},\n",
       "    3: {'First': {2: 'R',\n",
       "      1: 'R',\n",
       "      4: {'Second': {3: 'R', 5: 'L'}},\n",
       "      5: {'Second': {2: 'R', 4: 'L', 3: 'B'}},\n",
       "      3: {'Second': {3: 'R', 2: 'R', 5: 'B', 4: 'R'}}}},\n",
       "    4: {'First': {1: 'R',\n",
       "      4: {'Second': {5: 'B', 1: 'R', 3: 'R', 4: 'R'}},\n",
       "      5: {'Second': {2: 'R', 3: 'R', 4: 'B'}},\n",
       "      3: 'R',\n",
       "      2: 'R'}},\n",
       "    2: {'First': {1: 'R',\n",
       "      2: {'Second': {1: 'R', 5: 'B', 3: 'R'}},\n",
       "      5: {'Second': {4: 'L', 3: 'L', 1: 'R', 5: 'L'}},\n",
       "      4: {'Second': {4: 'L', 2: 'R', 5: 'L', 3: 'L'}},\n",
       "      3: {'Second': {1: 'R', 3: 'R', 2: 'R', 5: 'L', 4: 'L'}}}}}},\n",
       "  4: {'Fourth': {1: {'Second': {5: 'L',\n",
       "      4: {'First': {1: 'B', 3: 'L', 2: 'L'}},\n",
       "      3: {'First': {2: 'L', 1: 'R', 4: 'L'}},\n",
       "      2: {'First': {3: 'L', 2: 'B', 5: 'L', 4: 'L'}},\n",
       "      1: {'First': {5: 'L', 4: 'B'}}}},\n",
       "    2: {'First': {2: {'Second': {5: 'L', 4: 'B', 1: 'R'}},\n",
       "      4: {'Second': {5: 'L', 3: 'L', 2: 'B', 4: 'L'}},\n",
       "      1: 'R',\n",
       "      5: 'L',\n",
       "      3: {'Second': {2: 'R', 1: 'R', 3: 'L'}}}},\n",
       "    5: {'First': {2: 'R',\n",
       "      5: {'Second': {5: 'L', 1: 'R', 3: 'R', 4: 'B'}},\n",
       "      3: 'R',\n",
       "      4: {'Second': {4: 'R', 5: 'B', 2: 'R', 1: 'R'}},\n",
       "      1: 'R'}},\n",
       "    3: {'First': {5: {'Second': {3: 'L', 1: 'R', 2: 'R', 4: 'L'}},\n",
       "      2: 'R',\n",
       "      1: 'R',\n",
       "      3: {'Second': {2: 'R', 5: 'L', 3: 'R'}},\n",
       "      4: 'B'}},\n",
       "    4: {'Second': {2: 'R',\n",
       "      5: {'First': {5: 'L', 4: 'L', 3: 'R', 2: 'R'}},\n",
       "      1: 'R',\n",
       "      3: 'R',\n",
       "      4: {'First': {5: 'L', 3: 'R', 2: 'R', 1: 'R'}}}}}},\n",
       "  2: {'First': {2: {'Second': {5: {'Fourth': {2: 'L',\n",
       "        1: 'L',\n",
       "        3: 'L',\n",
       "        5: 'B',\n",
       "        4: 'L'}},\n",
       "      1: {'Fourth': {5: 'R', 3: 'R', 1: 'B', 2: 'R'}},\n",
       "      4: {'Fourth': {5: 'R', 4: 'B'}},\n",
       "      2: {'Fourth': {4: 'R', 2: 'B'}},\n",
       "      3: {'Fourth': {4: 'R', 3: 'B', 1: 'L', 2: 'L'}}}},\n",
       "    3: {'Fourth': {3: 'L',\n",
       "      1: 'L',\n",
       "      5: {'Second': {5: 'L', 3: 'R', 2: 'R'}},\n",
       "      4: {'Second': {3: 'L', 5: 'L', 1: 'R', 2: 'R'}},\n",
       "      2: {'Second': {5: 'L', 2: 'L', 1: 'R'}}}},\n",
       "    4: {'Second': {1: {'Fourth': {2: 'B', 5: 'R', 3: 'R', 4: 'R'}},\n",
       "      5: 'L',\n",
       "      4: 'L',\n",
       "      2: {'Fourth': {1: 'L', 5: 'R', 3: 'L', 2: 'L'}},\n",
       "      3: 'L'}},\n",
       "    1: {'Fourth': {3: 'R',\n",
       "      1: {'Second': {3: 'L', 4: 'L', 2: 'B'}},\n",
       "      4: 'R',\n",
       "      5: 'R',\n",
       "      2: 'B'}},\n",
       "    5: {'Second': {3: 'L',\n",
       "      5: 'L',\n",
       "      4: 'L',\n",
       "      1: {'Fourth': {5: 'R', 2: 'L', 3: 'R'}},\n",
       "      2: 'L'}}}}}}"
      ]
     },
     "execution_count": 99,
     "metadata": {},
     "output_type": "execute_result"
    }
   ],
   "source": [
    "tree = training(train)\n",
    "tree"
   ]
  },
  {
   "cell_type": "code",
   "execution_count": 101,
   "metadata": {},
   "outputs": [
    {
     "data": {
      "text/plain": [
       "'L'"
      ]
     },
     "execution_count": 101,
     "metadata": {},
     "output_type": "execute_result"
    }
   ],
   "source": [
    "max_occur = train.Label.mode()[0]\n",
    "max_occur[0]"
   ]
  },
  {
   "cell_type": "code",
   "execution_count": 147,
   "metadata": {},
   "outputs": [],
   "source": [
    "def predict(inst, tree):\n",
    "    for nodes in tree.keys():\n",
    "        value = inst[nodes]\n",
    "        try:\n",
    "            tree = tree[nodes][value]\n",
    "        except:\n",
    "            # return most occuring label if leaf node is empty\n",
    "            return max_occur[0]\n",
    "        prediction = 0\n",
    "        if type(tree) is dict:\n",
    "            prediction = predict(inst, tree)\n",
    "        else:\n",
    "            prediction = tree\n",
    "            break\n",
    "    return prediction"
   ]
  },
  {
   "cell_type": "code",
   "execution_count": 148,
   "metadata": {},
   "outputs": [],
   "source": [
    "Label_predict = []\n",
    "for i in range(len(test)):\n",
    "    inst = test.iloc[i, :]\n",
    "    prediction = predict(inst, tree)\n",
    "    Label_predict.append(prediction)"
   ]
  },
  {
   "cell_type": "code",
   "execution_count": 149,
   "metadata": {},
   "outputs": [
    {
     "data": {
      "text/plain": [
       "array(['L', 'L', 'L', 'L', 'L', 'L', 'R', 'L', 'L', 'L', 'L', 'L', 'L',\n",
       "       'L', 'R', 'L', 'L', 'L', 'L', 'L', 'R', 'B', 'L', 'L', 'R', 'L',\n",
       "       'L', 'L', 'R', 'L', 'L', 'L', 'L', 'L', 'L', 'L', 'L', 'L', 'L',\n",
       "       'L', 'L', 'L', 'L', 'L', 'R', 'B', 'L', 'L', 'L', 'L', 'B', 'R',\n",
       "       'L', 'L', 'L', 'L', 'R', 'R', 'L', 'L', 'B', 'L', 'L', 'L', 'L',\n",
       "       'L', 'R', 'R', 'L', 'L', 'L', 'L', 'R', 'L', 'R', 'L', 'L', 'R',\n",
       "       'L', 'L', 'R', 'L', 'L', 'L', 'L', 'L', 'L', 'L', 'L', 'L', 'L',\n",
       "       'R', 'L', 'L', 'L', 'L', 'R', 'L', 'L', 'L', 'L', 'L', 'L', 'L',\n",
       "       'L', 'L', 'R', 'L', 'L', 'L', 'L', 'L', 'L', 'L', 'L', 'L', 'L',\n",
       "       'R', 'L', 'R', 'L', 'R', 'L', 'L', 'L', 'L', 'L', 'L', 'L', 'B',\n",
       "       'R', 'R', 'R', 'L', 'R', 'L', 'L', 'L', 'L', 'R', 'L', 'L', 'L',\n",
       "       'R', 'L', 'L', 'L', 'L', 'L', 'R', 'L', 'L', 'L', 'L', 'L', 'L',\n",
       "       'L', 'R', 'L', 'L', 'L', 'L', 'L', 'L', 'R', 'R', 'B', 'R', 'L',\n",
       "       'L', 'B', 'L', 'L', 'R', 'L', 'L', 'L', 'L', 'R', 'L', 'B', 'R',\n",
       "       'R', 'L', 'L', 'L', 'R', 'R'], dtype='<U1')"
      ]
     },
     "execution_count": 149,
     "metadata": {},
     "output_type": "execute_result"
    }
   ],
   "source": [
    "np.array(Label_predict)"
   ]
  },
  {
   "cell_type": "code",
   "execution_count": 150,
   "metadata": {},
   "outputs": [
    {
     "name": "stdout",
     "output_type": "stream",
     "text": [
      "Confursion Matrix:\n",
      "[[ 0 13  0]\n",
      " [ 3 82  0]\n",
      " [ 5 47 38]]\n",
      "Accuracy Score:\n",
      "0.6382978723404256\n"
     ]
    }
   ],
   "source": [
    "from sklearn.metrics import confusion_matrix, accuracy_score\n",
    "print(f'Confursion Matrix:\\n{confusion_matrix(test.iloc[:, 0], Label_predict)}')\n",
    "print(f'Accuracy Score:\\n{accuracy_score(test.iloc[:, 0], Label_predict)}')"
   ]
  },
  {
   "attachments": {},
   "cell_type": "markdown",
   "metadata": {},
   "source": [
    "# Using inbuilt function"
   ]
  },
  {
   "cell_type": "code",
   "execution_count": 152,
   "metadata": {},
   "outputs": [
    {
     "data": {
      "text/html": [
       "<div>\n",
       "<style scoped>\n",
       "    .dataframe tbody tr th:only-of-type {\n",
       "        vertical-align: middle;\n",
       "    }\n",
       "\n",
       "    .dataframe tbody tr th {\n",
       "        vertical-align: top;\n",
       "    }\n",
       "\n",
       "    .dataframe thead th {\n",
       "        text-align: right;\n",
       "    }\n",
       "</style>\n",
       "<table border=\"1\" class=\"dataframe\">\n",
       "  <thead>\n",
       "    <tr style=\"text-align: right;\">\n",
       "      <th></th>\n",
       "      <th>First</th>\n",
       "      <th>Second</th>\n",
       "      <th>Third</th>\n",
       "      <th>Fourth</th>\n",
       "    </tr>\n",
       "  </thead>\n",
       "  <tbody>\n",
       "    <tr>\n",
       "      <th>0</th>\n",
       "      <td>1</td>\n",
       "      <td>1</td>\n",
       "      <td>1</td>\n",
       "      <td>1</td>\n",
       "    </tr>\n",
       "    <tr>\n",
       "      <th>1</th>\n",
       "      <td>1</td>\n",
       "      <td>1</td>\n",
       "      <td>1</td>\n",
       "      <td>2</td>\n",
       "    </tr>\n",
       "    <tr>\n",
       "      <th>2</th>\n",
       "      <td>1</td>\n",
       "      <td>1</td>\n",
       "      <td>1</td>\n",
       "      <td>3</td>\n",
       "    </tr>\n",
       "    <tr>\n",
       "      <th>3</th>\n",
       "      <td>1</td>\n",
       "      <td>1</td>\n",
       "      <td>1</td>\n",
       "      <td>4</td>\n",
       "    </tr>\n",
       "    <tr>\n",
       "      <th>4</th>\n",
       "      <td>1</td>\n",
       "      <td>1</td>\n",
       "      <td>1</td>\n",
       "      <td>5</td>\n",
       "    </tr>\n",
       "    <tr>\n",
       "      <th>...</th>\n",
       "      <td>...</td>\n",
       "      <td>...</td>\n",
       "      <td>...</td>\n",
       "      <td>...</td>\n",
       "    </tr>\n",
       "    <tr>\n",
       "      <th>620</th>\n",
       "      <td>5</td>\n",
       "      <td>5</td>\n",
       "      <td>5</td>\n",
       "      <td>1</td>\n",
       "    </tr>\n",
       "    <tr>\n",
       "      <th>621</th>\n",
       "      <td>5</td>\n",
       "      <td>5</td>\n",
       "      <td>5</td>\n",
       "      <td>2</td>\n",
       "    </tr>\n",
       "    <tr>\n",
       "      <th>622</th>\n",
       "      <td>5</td>\n",
       "      <td>5</td>\n",
       "      <td>5</td>\n",
       "      <td>3</td>\n",
       "    </tr>\n",
       "    <tr>\n",
       "      <th>623</th>\n",
       "      <td>5</td>\n",
       "      <td>5</td>\n",
       "      <td>5</td>\n",
       "      <td>4</td>\n",
       "    </tr>\n",
       "    <tr>\n",
       "      <th>624</th>\n",
       "      <td>5</td>\n",
       "      <td>5</td>\n",
       "      <td>5</td>\n",
       "      <td>5</td>\n",
       "    </tr>\n",
       "  </tbody>\n",
       "</table>\n",
       "<p>625 rows × 4 columns</p>\n",
       "</div>"
      ],
      "text/plain": [
       "     First  Second  Third  Fourth\n",
       "0        1       1      1       1\n",
       "1        1       1      1       2\n",
       "2        1       1      1       3\n",
       "3        1       1      1       4\n",
       "4        1       1      1       5\n",
       "..     ...     ...    ...     ...\n",
       "620      5       5      5       1\n",
       "621      5       5      5       2\n",
       "622      5       5      5       3\n",
       "623      5       5      5       4\n",
       "624      5       5      5       5\n",
       "\n",
       "[625 rows x 4 columns]"
      ]
     },
     "execution_count": 152,
     "metadata": {},
     "output_type": "execute_result"
    }
   ],
   "source": [
    "X = df.iloc[:, 1:]\n",
    "X"
   ]
  },
  {
   "cell_type": "code",
   "execution_count": 153,
   "metadata": {},
   "outputs": [
    {
     "data": {
      "text/plain": [
       "0      B\n",
       "1      R\n",
       "2      R\n",
       "3      R\n",
       "4      R\n",
       "      ..\n",
       "620    L\n",
       "621    L\n",
       "622    L\n",
       "623    L\n",
       "624    B\n",
       "Name: Label, Length: 625, dtype: object"
      ]
     },
     "execution_count": 153,
     "metadata": {},
     "output_type": "execute_result"
    }
   ],
   "source": [
    "Y = df.iloc[:, 0]\n",
    "Y"
   ]
  },
  {
   "cell_type": "code",
   "execution_count": 154,
   "metadata": {},
   "outputs": [],
   "source": [
    "X_train, X_test, Y_train, Y_test = train_test_split(X, Y, test_size=0.3, random_state=100)"
   ]
  },
  {
   "cell_type": "code",
   "execution_count": 155,
   "metadata": {},
   "outputs": [],
   "source": [
    "from sklearn.tree import DecisionTreeClassifier\n",
    "decision_tree = DecisionTreeClassifier(criterion='entropy')"
   ]
  },
  {
   "cell_type": "code",
   "execution_count": 156,
   "metadata": {},
   "outputs": [
    {
     "data": {
      "text/plain": [
       "DecisionTreeClassifier(criterion='entropy')"
      ]
     },
     "execution_count": 156,
     "metadata": {},
     "output_type": "execute_result"
    }
   ],
   "source": [
    "decision_tree.fit(X_train, Y_train)"
   ]
  },
  {
   "cell_type": "code",
   "execution_count": 157,
   "metadata": {},
   "outputs": [
    {
     "data": {
      "text/plain": [
       "array(['L', 'L', 'R', 'L', 'R', 'L', 'R', 'L', 'L', 'R', 'R', 'B', 'R',\n",
       "       'L', 'R', 'R', 'L', 'L', 'R', 'L', 'R', 'B', 'B', 'L', 'R', 'L',\n",
       "       'L', 'L', 'R', 'L', 'R', 'L', 'B', 'L', 'B', 'L', 'B', 'B', 'B',\n",
       "       'B', 'L', 'L', 'R', 'L', 'R', 'R', 'L', 'R', 'R', 'L', 'B', 'R',\n",
       "       'L', 'L', 'R', 'L', 'R', 'R', 'L', 'B', 'B', 'R', 'L', 'B', 'R',\n",
       "       'L', 'R', 'R', 'R', 'L', 'L', 'L', 'R', 'L', 'R', 'L', 'L', 'R',\n",
       "       'R', 'L', 'R', 'B', 'R', 'L', 'L', 'L', 'R', 'L', 'R', 'L', 'R',\n",
       "       'R', 'L', 'L', 'L', 'R', 'R', 'L', 'B', 'L', 'L', 'L', 'R', 'R',\n",
       "       'L', 'R', 'R', 'R', 'L', 'L', 'L', 'L', 'R', 'R', 'L', 'B', 'R',\n",
       "       'R', 'R', 'R', 'L', 'R', 'R', 'R', 'L', 'L', 'L', 'L', 'L', 'R',\n",
       "       'R', 'R', 'R', 'L', 'R', 'L', 'R', 'L', 'L', 'R', 'L', 'B', 'L',\n",
       "       'R', 'L', 'L', 'R', 'L', 'R', 'R', 'L', 'L', 'L', 'R', 'R', 'R',\n",
       "       'L', 'R', 'R', 'L', 'R', 'L', 'B', 'L', 'R', 'R', 'L', 'R', 'R',\n",
       "       'L', 'B', 'L', 'R', 'R', 'R', 'R', 'L', 'L', 'R', 'R', 'R', 'R',\n",
       "       'R', 'L', 'L', 'L', 'R', 'R'], dtype=object)"
      ]
     },
     "execution_count": 157,
     "metadata": {},
     "output_type": "execute_result"
    }
   ],
   "source": [
    "Label_predict_2 = decision_tree.predict(X_test)\n",
    "Label_predict_2"
   ]
  },
  {
   "cell_type": "code",
   "execution_count": 158,
   "metadata": {},
   "outputs": [
    {
     "name": "stdout",
     "output_type": "stream",
     "text": [
      "Confursion Matrix:\n",
      "[[ 0  8  5]\n",
      " [10 71  4]\n",
      " [ 9  5 76]]\n",
      "Accuracy Score:\n",
      "0.7819148936170213\n"
     ]
    }
   ],
   "source": [
    "print(f'Confursion Matrix:\\n{confusion_matrix(Y_test, Label_predict_2)}')\n",
    "print(f'Accuracy Score:\\n{accuracy_score(Y_test, Label_predict_2)}')"
   ]
  },
  {
   "cell_type": "code",
   "execution_count": null,
   "metadata": {},
   "outputs": [],
   "source": []
  }
 ],
 "metadata": {
  "kernelspec": {
   "display_name": "base",
   "language": "python",
   "name": "python3"
  },
  "language_info": {
   "codemirror_mode": {
    "name": "ipython",
    "version": 3
   },
   "file_extension": ".py",
   "mimetype": "text/x-python",
   "name": "python",
   "nbconvert_exporter": "python",
   "pygments_lexer": "ipython3",
   "version": "3.9.12"
  },
  "orig_nbformat": 4,
  "vscode": {
   "interpreter": {
    "hash": "f3a52463084db90f96d29dcfcfd9bf276dba3c521d76c4c38c835392b64a093b"
   }
  }
 },
 "nbformat": 4,
 "nbformat_minor": 2
}
